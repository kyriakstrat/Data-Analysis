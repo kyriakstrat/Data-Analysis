{
 "cells": [
  {
   "cell_type": "code",
   "execution_count": 1,
   "metadata": {},
   "outputs": [],
   "source": [
    "import tensorflow as tf\n",
    "import numpy as np\n",
    "import pandas as pd\n",
    "import matplotlib.pyplot as plt"
   ]
  },
  {
   "cell_type": "code",
   "execution_count": 16,
   "metadata": {},
   "outputs": [
    {
     "name": "stdout",
     "output_type": "stream",
     "text": [
      "Epoch 1/10\n",
      "32/32 [==============================] - 3s 8ms/step - loss: 1.1642\n",
      "Epoch 2/10\n",
      "32/32 [==============================] - 0s 5ms/step - loss: 1.0965\n",
      "Epoch 3/10\n",
      "32/32 [==============================] - 0s 5ms/step - loss: 1.0853\n",
      "Epoch 4/10\n",
      "32/32 [==============================] - 0s 5ms/step - loss: 1.0847\n",
      "Epoch 5/10\n",
      "32/32 [==============================] - 0s 6ms/step - loss: 1.0671\n",
      "Epoch 6/10\n",
      "32/32 [==============================] - 0s 6ms/step - loss: 1.0757\n",
      "Epoch 7/10\n",
      "32/32 [==============================] - 0s 8ms/step - loss: 1.0789\n",
      "Epoch 8/10\n",
      "32/32 [==============================] - 0s 6ms/step - loss: 1.0634\n",
      "Epoch 9/10\n",
      "32/32 [==============================] - 0s 5ms/step - loss: 1.0612\n",
      "Epoch 10/10\n",
      "32/32 [==============================] - 0s 5ms/step - loss: 1.0523\n",
      "4/4 [==============================] - 0s 4ms/step\n"
     ]
    }
   ],
   "source": [
    "from tensorflow.keras import layers\n",
    "#Example of RNN model\n",
    "\n",
    "# Define the RNN model\n",
    "model = tf.keras.Sequential([\n",
    "    layers.SimpleRNN(64, input_shape=(10, 1)),  # RNN layer with 64 units\n",
    "    layers.Dense(1)  # Output layer\n",
    "])\n",
    "\n",
    "# Compile the model\n",
    "model.compile(optimizer='adam', loss='mse')\n",
    "\n",
    "# Generate some sample data\n",
    "X = tf.random.normal((1000, 10, 1))\n",
    "y = tf.random.normal((1000, 1))\n",
    "\n",
    "# Train the model\n",
    "model.fit(X, y, epochs=10, batch_size=32)\n",
    "\n",
    "X_test = tf.random.normal((100, 10, 1))\n",
    "\n",
    "# Make predictions using the trained model\n",
    "predictions = model.predict(X_test)\n",
    "\n",
    "# Print the predictions"
   ]
  },
  {
   "cell_type": "code",
   "execution_count": 17,
   "metadata": {},
   "outputs": [],
   "source": [
    "y=y.numpy().tolist()"
   ]
  }
 ],
 "metadata": {
  "kernelspec": {
   "display_name": "Python 3",
   "language": "python",
   "name": "python3"
  },
  "language_info": {
   "codemirror_mode": {
    "name": "ipython",
    "version": 3
   },
   "file_extension": ".py",
   "mimetype": "text/x-python",
   "name": "python",
   "nbconvert_exporter": "python",
   "pygments_lexer": "ipython3",
   "version": "3.9.13"
  },
  "orig_nbformat": 4
 },
 "nbformat": 4,
 "nbformat_minor": 2
}
